{
 "cells": [
  {
   "cell_type": "code",
   "execution_count": 7,
   "id": "a72c484f",
   "metadata": {},
   "outputs": [
    {
     "name": "stdout",
     "output_type": "stream",
     "text": [
      "3 11\n",
      "3 5 2\n",
      "1\n"
     ]
    }
   ],
   "source": [
    "def max_money(n, m, g):\n",
    "    dp = [[0] * (m + 1) for _ in range(n + 1)]\n",
    "    for i in range(1, n + 1):\n",
    "        for j in range(1, m + 1):\n",
    "            if g[i - 1] <= j:\n",
    "                dp[i][j] = max(dp[i - 1][j], dp[i - 1][j - g[i - 1]] + g[i - 1])\n",
    "            else:\n",
    "                dp[i][j] = dp[i - 1][j]\n",
    "    return m - dp[n][m]\n",
    "\n",
    "\n",
    "n, m = map(int, input().split())\n",
    "gifts = list(map(int, input().split()))\n",
    "\n",
    "\n",
    "remains = 0\n",
    "for i in range(1, m + 1):\n",
    "    remains = max(remains, max_money(n, i, gifts))\n",
    "\n",
    "print(remains)"
   ]
  },
  {
   "cell_type": "code",
   "execution_count": 9,
   "id": "040d0087",
   "metadata": {},
   "outputs": [
    {
     "name": "stdout",
     "output_type": "stream",
     "text": [
      "3 10\n",
      "5 4 2\n",
      "1\n"
     ]
    }
   ],
   "source": [
    "def check(m: int, m_: int, gifts: list):\n",
    "    for a in gifts[::-1]:\n",
    "        if m_ >= a:\n",
    "            m_ += a\n",
    "            if m < m_:\n",
    "                return False\n",
    "    return True\n",
    "\n",
    "\n",
    "def solve(n: int, m: int, arr: list):\n",
    "    left, right = 0, m\n",
    "    while right - left > n:\n",
    "        middle = (left + right) // 2\n",
    "        if check(m, middle, arr):\n",
    "            left = middle\n",
    "        else:\n",
    "            right = middle\n",
    "    for i in range(right, left - 1, -1):\n",
    "        if check(m, i, arr):\n",
    "            return i\n",
    "    return 0\n",
    "\n",
    "\n",
    "n, m = map(int, input().split())\n",
    "gifts = list(map(int, input().split()))\n",
    "print(solve(n, m, gifts))"
   ]
  },
  {
   "cell_type": "code",
   "execution_count": null,
   "id": "755ce0b6",
   "metadata": {},
   "outputs": [],
   "source": []
  }
 ],
 "metadata": {
  "kernelspec": {
   "display_name": "Python 3 (ipykernel)",
   "language": "python",
   "name": "python3"
  },
  "language_info": {
   "codemirror_mode": {
    "name": "ipython",
    "version": 3
   },
   "file_extension": ".py",
   "mimetype": "text/x-python",
   "name": "python",
   "nbconvert_exporter": "python",
   "pygments_lexer": "ipython3",
   "version": "3.11.5"
  }
 },
 "nbformat": 4,
 "nbformat_minor": 5
}
