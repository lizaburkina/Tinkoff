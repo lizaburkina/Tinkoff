{
 "cells": [
  {
   "cell_type": "markdown",
   "id": "655185e6",
   "metadata": {},
   "source": [
    "Проверка набора букв на возможность составить из них слово \"TINKOFF\" и не больше"
   ]
  },
  {
   "cell_type": "code",
   "execution_count": 33,
   "id": "13fd43f5",
   "metadata": {},
   "outputs": [
    {
     "name": "stdout",
     "output_type": "stream",
     "text": [
      "5\n",
      "ITKONFF\n",
      "FKKFKKFKF\n",
      "AGHDVNE\n",
      "TINFFFKO\n",
      "NITOKFF\n"
     ]
    }
   ],
   "source": [
    "t = int(input())\n",
    "nabor = [input()\n",
    "        for i in range(t)]\n"
   ]
  },
  {
   "cell_type": "code",
   "execution_count": 54,
   "id": "52c4785e",
   "metadata": {},
   "outputs": [],
   "source": [
    "ist = sorted(list('TINKOFF'))"
   ]
  },
  {
   "cell_type": "code",
   "execution_count": 55,
   "id": "9bb35928",
   "metadata": {},
   "outputs": [
    {
     "name": "stdout",
     "output_type": "stream",
     "text": [
      "Yes\n",
      "No\n",
      "No\n",
      "No\n",
      "Yes\n"
     ]
    }
   ],
   "source": [
    "for candidate in nabor:\n",
    "    print(\"Yes\" if sorted(candidate) == ist else \"No\")"
   ]
  }
 ],
 "metadata": {
  "kernelspec": {
   "display_name": "Python 3 (ipykernel)",
   "language": "python",
   "name": "python3"
  },
  "language_info": {
   "codemirror_mode": {
    "name": "ipython",
    "version": 3
   },
   "file_extension": ".py",
   "mimetype": "text/x-python",
   "name": "python",
   "nbconvert_exporter": "python",
   "pygments_lexer": "ipython3",
   "version": "3.11.5"
  }
 },
 "nbformat": 4,
 "nbformat_minor": 5
}
