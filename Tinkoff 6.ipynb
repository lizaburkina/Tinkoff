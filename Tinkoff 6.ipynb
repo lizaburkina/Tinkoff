{
 "cells": [
  {
   "cell_type": "code",
   "execution_count": 3,
   "id": "c7a345a0",
   "metadata": {},
   "outputs": [
    {
     "name": "stdout",
     "output_type": "stream",
     "text": [
      "6 3\n",
      "2 4 6 8 10 12\n",
      "? 2 5 3 0\n",
      "10\n",
      "+ 2 3 6\n",
      "? 2 5 3 2\n",
      "11\n"
     ]
    }
   ],
   "source": [
    "n, q = map(int, input().split())\n",
    "a_i = list(map(int, input().split()))\n",
    "\n",
    "for _ in range(q):\n",
    "    query = input().split()\n",
    "    \n",
    "    if query[0] == '+':\n",
    "        l, r, x = map(int, query[1:])\n",
    "        for i in range(l-1, r):\n",
    "            a_i[i] += x\n",
    "    elif query[0] == '?':\n",
    "        l, r, k, b = map(int, query[1:])\n",
    "        max_min = 0\n",
    "        for i in range(l-1, r):\n",
    "            value = min(a_i[i], k*(i+1) + b)\n",
    "            if value > max_min:\n",
    "                max_min = value\n",
    "        print(max_min)"
   ]
  },
  {
   "cell_type": "code",
   "execution_count": null,
   "id": "b4ef68b5",
   "metadata": {},
   "outputs": [],
   "source": []
  }
 ],
 "metadata": {
  "kernelspec": {
   "display_name": "Python 3 (ipykernel)",
   "language": "python",
   "name": "python3"
  },
  "language_info": {
   "codemirror_mode": {
    "name": "ipython",
    "version": 3
   },
   "file_extension": ".py",
   "mimetype": "text/x-python",
   "name": "python",
   "nbconvert_exporter": "python",
   "pygments_lexer": "ipython3",
   "version": "3.11.5"
  }
 },
 "nbformat": 4,
 "nbformat_minor": 5
}
