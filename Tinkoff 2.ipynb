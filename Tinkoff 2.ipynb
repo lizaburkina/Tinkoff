{
 "cells": [
  {
   "cell_type": "markdown",
   "id": "1e85ec0d",
   "metadata": {},
   "source": [
    "Задача про социальную активность разработчиков"
   ]
  },
  {
   "cell_type": "code",
   "execution_count": 18,
   "id": "421a037b",
   "metadata": {},
   "outputs": [
    {
     "name": "stdout",
     "output_type": "stream",
     "text": [
      "1\n",
      "6\n",
      "1 1 1 2 2 2\n",
      "no\n"
     ]
    }
   ],
   "source": [
    "t = int(input())\n",
    "for i in range(t):\n",
    "    n = int(input())\n",
    "    a_i = input().split(' ')\n",
    "    a_i = [int(i) for i in a_i]\n",
    "    \n",
    "    sorted(a_i)\n",
    "    if a_i[0] != 1:\n",
    "        print(\"yes\")\n",
    "    else:\n",
    "        \n",
    "        while a_i[-1] != 1:\n",
    "            a_i[-1] -= 1\n",
    "            a_i.pop(0)\n",
    "            sorted(a_i)\n",
    "        if a_i.count(1) <= 2:\n",
    "            print('yes')\n",
    "        else:\n",
    "            print('no')"
   ]
  }
 ],
 "metadata": {
  "kernelspec": {
   "display_name": "Python 3 (ipykernel)",
   "language": "python",
   "name": "python3"
  },
  "language_info": {
   "codemirror_mode": {
    "name": "ipython",
    "version": 3
   },
   "file_extension": ".py",
   "mimetype": "text/x-python",
   "name": "python",
   "nbconvert_exporter": "python",
   "pygments_lexer": "ipython3",
   "version": "3.11.5"
  }
 },
 "nbformat": 4,
 "nbformat_minor": 5
}
